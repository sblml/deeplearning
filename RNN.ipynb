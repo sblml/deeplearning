{
 "cells": [
  {
   "cell_type": "code",
   "execution_count": null,
   "metadata": {},
   "outputs": [],
   "source": [
    "lstm.all_weights returns a list of\n",
    "lstm1.bias_hh_l0\n",
    "lstm1.bias_ih_l0\n",
    "lstm1.weight_hh_l0\n",
    "model.lstm1.weight_ih_l0"
   ]
  },
  {
   "cell_type": "markdown",
   "metadata": {},
   "source": [
    "AlgoTrade Ch 8.2  \n",
    "The shape of an input is (timesteps, features)\n",
    "for five days, x^-4 x^-3 x^-2 x^-1 x, with respect to the notation in P. 300  \n",
    "i.e. x^-4 input, processed, passed to the next step, x^-3 input, processed with the output from x^-4, and so on."
   ]
  },
  {
   "cell_type": "markdown",
   "metadata": {},
   "source": [
    "LSTM(cell)  \n",
    "cell is like an output dim, the size of output memory, etc."
   ]
  },
  {
   "cell_type": "markdown",
   "metadata": {},
   "source": [
    "LSTM Pytorch  \n",
    "https://coding-yoon.tistory.com/131  \n",
    "https://coding-yoon.tistory.com/55  \n",
    "https://eda-ai-lab.tistory.com/429  "
   ]
  },
  {
   "cell_type": "markdown",
   "metadata": {},
   "source": [
    "https://coding-yoon.tistory.com/131  \n",
    "https://stackoverflow.com/questions/53628622/loss-function-its-inputs-for-binary-classification-pytorch  \n",
    "https://github.com/thundercomb/pytorch-stock-predictor-rnn/blob/master/pytorch-stock-predictor-lstm.ipynb  "
   ]
  }
 ],
 "metadata": {
  "kernelspec": {
   "display_name": "Python 3",
   "language": "python",
   "name": "python3"
  },
  "language_info": {
   "codemirror_mode": {
    "name": "ipython",
    "version": 3
   },
   "file_extension": ".py",
   "mimetype": "text/x-python",
   "name": "python",
   "nbconvert_exporter": "python",
   "pygments_lexer": "ipython3",
   "version": "3.8.5"
  }
 },
 "nbformat": 4,
 "nbformat_minor": 4
}
