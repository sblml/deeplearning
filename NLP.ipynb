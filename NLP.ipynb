{
 "cells": [
  {
   "cell_type": "markdown",
   "metadata": {},
   "source": [
    "https://wikidocs.net/22893"
   ]
  },
  {
   "cell_type": "markdown",
   "metadata": {},
   "source": [
    "Seq-to-Seq: translation, Q&A, etc."
   ]
  },
  {
   "cell_type": "markdown",
   "metadata": {},
   "source": [
    "Attention: confer inputs processed with the current hidden state to output a result  \n",
    "See Section3 in https://wikidocs.net/22893"
   ]
  },
  {
   "cell_type": "code",
   "execution_count": null,
   "metadata": {},
   "outputs": [],
   "source": [
    "From NLPfromScratch3.ipynb\n",
    "\n",
    "torch.bmm: batch-matrix-multiplication, bmm with (10, 3, 4) and (10, 4, 5) -> (10, 3, 5)\n",
    "\n",
    "attn_weights (1, MAX_LENGTH)\n",
    "encoder_outputs (MAX_LENGTH, hidden_size)\n",
    "CHECK : why MAX_LENGTH? may be for accounting for inputs\n",
    "\n",
    "bmm(attn_weights.unsqueeze(0), encoder_outputs.unsqueeze(0)) -> attn_applied\n",
    "(1, 1, MAX_LENGTH) * (1, MAX_LENGTH, hidden_size) -> (1, 1, hidden_size)\n",
    "\n",
    "encoder_outputs is not directly referred,\n",
    "but is multiplied by attention weights in bmm and adjusted to attn_applied before using\n",
    "\n",
    "one encoder output for one word is (1, hidden_size) vector\n",
    "encoder_outputs (MAX_LENGTH, hidden_size) is a collection of (1, hidden_size) vectors of MAX_LENGTH words \n",
    "MAX_LENGTH encoder outputs multiplied by corresponding weights condensed to (1, hidden_size) like one word encoder output\n",
    "\n",
    "each weight element <-> each input word\n",
    "[0, 0, 0.5, 0.5, 0] means 3rd 4th words are important at this decoding step\n",
    "\n",
    "weights are obtained from input and previous hidden as context\n",
    "\n",
    "attn_combine\n",
    "combines the information in the input and the transformed encoder_outputs "
   ]
  },
  {
   "cell_type": "code",
   "execution_count": null,
   "metadata": {},
   "outputs": [],
   "source": []
  }
 ],
 "metadata": {
  "kernelspec": {
   "display_name": "Python 3",
   "language": "python",
   "name": "python3"
  },
  "language_info": {
   "codemirror_mode": {
    "name": "ipython",
    "version": 3
   },
   "file_extension": ".py",
   "mimetype": "text/x-python",
   "name": "python",
   "nbconvert_exporter": "python",
   "pygments_lexer": "ipython3",
   "version": "3.8.5"
  }
 },
 "nbformat": 4,
 "nbformat_minor": 4
}
